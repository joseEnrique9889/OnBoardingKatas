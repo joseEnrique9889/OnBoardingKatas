{
 "cells": [
  {
   "cell_type": "markdown",
   "metadata": {},
   "source": [
    "## Ejercicio 1:\n",
    "escribirás una lógica condicional que imprima una advertencia si un asteroide se acerca a la Tierra demasiado rápido. La velocidad del asteroide varía dependiendo de lo cerca que esté del sol, y cualquier velocidad superior a 25 kilómetros por segundo (km/s) merece una advertencia.\n",
    "\n",
    "Un asteroide se acerca, y viaja a una velocidad de 49 km/s."
   ]
  },
  {
   "cell_type": "code",
   "execution_count": 3,
   "metadata": {},
   "outputs": [
    {
     "name": "stdout",
     "output_type": "stream",
     "text": [
      "¡ALERTA! ¡Un asteroide se aproxima a un velicidad peligrosa ala tierra\n"
     ]
    }
   ],
   "source": [
    "asteroide = 49\n",
    "if asteroide > 25:\n",
    "    print('¡ALERTA! ¡Un asteroide se aproxima a un velicidad peligrosa ala tierra')\n",
    "else:\n",
    "    print('Por el momento no tenemos ninguna alerta siga con su dia')"
   ]
  },
  {
   "cell_type": "markdown",
   "metadata": {},
   "source": [
    "## Ejercicio 2\n",
    "\n",
    "Si un asteroide entra en la atmósfera de la Tierra a una velocidad mayor o igual a 20 km/s, a veces produce un rayo de luz que se puede ver desde la Tierra. Escribe la lógica condicional que usa declaraciones if, else, y elif para alertar a las personas de todo el mundo que deben buscar un asteroide en el cielo. ¡Hay uno que se dirige a la tierra ahora a una velocidad de 19 km/s!"
   ]
  },
  {
   "cell_type": "code",
   "execution_count": 7,
   "metadata": {},
   "outputs": [
    {
     "name": "stdout",
     "output_type": "stream",
     "text": [
      "POR EL MOMENTO NO SE PUEDE VER NADA EN CIELO \n"
     ]
    }
   ],
   "source": [
    "asteroide = 19\n",
    "if asteroide >20:\n",
    "    print(\"¡O DIO! ¡HAY UN RAYO DE LUZ EN EL CIELO!\")\n",
    "elif asteroide == 20:\n",
    "    print(\"¡O DIO! ¡HAY UN RAYO DE LUZ EN EL CIELO!\")\n",
    "else:\n",
    "    print(\"POR EL MOMENTO NO SE PUEDE VER NADA EN CIELO \")"
   ]
  },
  {
   "cell_type": "markdown",
   "metadata": {},
   "source": [
    "## Ejercicio 3\n",
    "*Los asteroides de menos de 25 metros en su dimensión más grande probablemente se quemarán a medida que entren en la atmósfera de la Tierra.\n",
    "\n",
    "Si una pieza de un asteroide que es más grande que 25 metros pero más pequeña que 1000 metros golpeara la Tierra, causaría mucho daño.\n",
    "También discutimos en el ejercicio anterior que:\n",
    "\n",
    "La velocidad del asteroide varía en función de lo cerca que esté del sol, y cualquier velocidad superior a 25 kilómetros por segundo (km/s) merece una advertencia.\n",
    "Si un asteroide entra en la atmósfera de la Tierra a una velocidad mayor o igual a 20 km/s, a veces produce un rayo de luz que se puede ver desde la Tierra."
   ]
  },
  {
   "cell_type": "code",
   "execution_count": 8,
   "metadata": {},
   "outputs": [
    {
     "name": "stdout",
     "output_type": "stream",
     "text": [
      "¡O DIO! ¡HAY UN RAYO DE LUZ EN EL CIELO!\n"
     ]
    }
   ],
   "source": [
    "velocidad_asteroide = 25\n",
    "tamaño_asteroide = 40\n",
    "if velocidad_asteroide > 25 and tamaño_asteroide > 25:\n",
    "    print('¡ALERTA, un asteroide se dirige hacia la tierra')\n",
    "elif velocidad_asteroide >= 20:\n",
    "    print(\"¡O DIO! ¡HAY UN RAYO DE LUZ EN EL CIELO!\")\n",
    "elif tamaño_asteroide < 25:\n",
    "    print('POR EL MOMENTO NO HAY NADA QUE VER')\n",
    "else:\n",
    "    print('POR EL MOMENTO NO HAY NADA QUE VER')\n",
    "\n"
   ]
  }
 ],
 "metadata": {
  "interpreter": {
   "hash": "985fd9b1de7e7f6d4febee0945c3fc90c485e94fdf09bf1faf36a836e21eb287"
  },
  "kernelspec": {
   "display_name": "Python 3.10.2 64-bit",
   "language": "python",
   "name": "python3"
  },
  "language_info": {
   "codemirror_mode": {
    "name": "ipython",
    "version": 3
   },
   "file_extension": ".py",
   "mimetype": "text/x-python",
   "name": "python",
   "nbconvert_exporter": "python",
   "pygments_lexer": "ipython3",
   "version": "3.10.2"
  },
  "orig_nbformat": 4
 },
 "nbformat": 4,
 "nbformat_minor": 2
}
