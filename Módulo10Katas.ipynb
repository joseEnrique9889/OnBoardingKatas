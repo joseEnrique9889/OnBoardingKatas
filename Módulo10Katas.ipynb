{
 "cells": [
  {
   "cell_type": "code",
   "execution_count": 2,
   "metadata": {},
   "outputs": [
    {
     "ename": "IndentationError",
     "evalue": "unindent does not match any outer indentation level (<tokenize>, line 39)",
     "output_type": "error",
     "traceback": [
      "\u001b[1;36m  File \u001b[1;32m<tokenize>:39\u001b[1;36m\u001b[0m\n\u001b[1;33m    for argument in [astronauts, water_left, days_left]:\u001b[0m\n\u001b[1;37m    ^\u001b[0m\n\u001b[1;31mIndentationError\u001b[0m\u001b[1;31m:\u001b[0m unindent does not match any outer indentation level\n"
     ]
    }
   ],
   "source": [
    "#def main():\n",
    " #   open(\"/path/to/mars.jpg\")\n",
    "\n",
    "#if __name__ == '__main__':\n",
    " #   main()\n",
    "\n",
    "#try:\n",
    " #    open('config.txt')\n",
    "#except FileNotFoundError:   \n",
    " #     print(\"Couldn't find the config.txt file!\")\n",
    "\n",
    "#def main():\n",
    " #   try:\n",
    "  #      configuration = open('config.txt')\n",
    "   # except Exception:\n",
    "     #   print(\"Couldn't find the config.txt file!\")\n",
    "\n",
    "\n",
    "#def main():\n",
    " #   try:\n",
    "  #      configuration = open('config.txt')\n",
    "   # except FileNotFoundError:\n",
    "    #    print(\"Couldn't find the config.txt file!\")\n",
    "    #except IsADirectoryError:\n",
    "     #   print(\"Found config.txt but it is a directory, couldn't read it\")\n",
    "\n",
    "\n",
    "#def main():\n",
    " #   try:\n",
    "  #      configuration = open('config.txt')\n",
    "   # except FileNotFoundError:\n",
    "    #    print(\"Couldn't find the config.txt file!\")\n",
    "    #except IsADirectoryError:\n",
    "     #   print(\"Found config.txt but it is a directory, couldn't read it\")\n",
    "    #except (BlockingIOError, TimeoutError):\n",
    "     #   print(\"Filesystem under heavy load, can't complete reading configuration file\")\n",
    "\n",
    "     def water_left(astronauts, water_left, days_left):\n",
    "    for argument in [astronauts, water_left, days_left]:\n",
    "        try:\n",
    "            # If argument is an int, the following operation will work\n",
    "            argument / 10\n",
    "        except TypeError:\n",
    "            # TypError will be raised only if it isn't the right type \n",
    "            # Raise the same exception but with a better error message\n",
    "            raise TypeError(f\"All arguments must be of type int, but received: '{argument}'\")\n",
    "    daily_usage = astronauts * 11\n",
    "    total_usage = daily_usage * days_left\n",
    "    total_water_left = water_left - total_usage\n",
    "    if total_water_left < 0:\n",
    "        raise RuntimeError(f\"There is not enough water for {astronauts} astronauts after {days_left} days!\")\n",
    "    return f\"Total water left after {days_left} days is: {total_water_left} liters\""
   ]
  }
 ],
 "metadata": {
  "interpreter": {
   "hash": "985fd9b1de7e7f6d4febee0945c3fc90c485e94fdf09bf1faf36a836e21eb287"
  },
  "kernelspec": {
   "display_name": "Python 3.10.2 64-bit",
   "language": "python",
   "name": "python3"
  },
  "language_info": {
   "codemirror_mode": {
    "name": "ipython",
    "version": 3
   },
   "file_extension": ".py",
   "mimetype": "text/x-python",
   "name": "python",
   "nbconvert_exporter": "python",
   "pygments_lexer": "ipython3",
   "version": "3.10.2"
  },
  "orig_nbformat": 4
 },
 "nbformat": 4,
 "nbformat_minor": 2
}
